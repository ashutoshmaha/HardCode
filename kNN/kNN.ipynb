{
 "cells": [
  {
   "cell_type": "markdown",
   "metadata": {},
   "source": [
    "# Finding nearest neighbors of an incoming data point using k-Nearest Neighbors algorith(method 1).\n",
    "\n",
    "\n",
    "# Ashutosh Mahajan"
   ]
  },
  {
   "cell_type": "code",
   "execution_count": 1,
   "metadata": {},
   "outputs": [],
   "source": [
    "# Add team, names, and matriculation numbers"
   ]
  },
  {
   "cell_type": "markdown",
   "metadata": {},
   "source": [
    "## Data Preprocessing "
   ]
  },
  {
   "cell_type": "markdown",
   "metadata": {},
   "source": [
    "### Training Data"
   ]
  },
  {
   "cell_type": "code",
   "execution_count": 2,
   "metadata": {
    "scrolled": false
   },
   "outputs": [
    {
     "data": {
      "text/html": [
       "<div>\n",
       "<style scoped>\n",
       "    .dataframe tbody tr th:only-of-type {\n",
       "        vertical-align: middle;\n",
       "    }\n",
       "\n",
       "    .dataframe tbody tr th {\n",
       "        vertical-align: top;\n",
       "    }\n",
       "\n",
       "    .dataframe thead th {\n",
       "        text-align: right;\n",
       "    }\n",
       "</style>\n",
       "<table border=\"1\" class=\"dataframe\">\n",
       "  <thead>\n",
       "    <tr style=\"text-align: right;\">\n",
       "      <th></th>\n",
       "      <th>Green</th>\n",
       "      <th>Red</th>\n",
       "      <th>Yellow</th>\n",
       "      <th>Radius (cm)</th>\n",
       "      <th>Weight (grams)</th>\n",
       "      <th>Fruit (class)</th>\n",
       "    </tr>\n",
       "  </thead>\n",
       "  <tbody>\n",
       "    <tr>\n",
       "      <th>0</th>\n",
       "      <td>0</td>\n",
       "      <td>0</td>\n",
       "      <td>1</td>\n",
       "      <td>0.064516</td>\n",
       "      <td>0.157895</td>\n",
       "      <td>Lemon</td>\n",
       "    </tr>\n",
       "    <tr>\n",
       "      <th>1</th>\n",
       "      <td>0</td>\n",
       "      <td>0</td>\n",
       "      <td>1</td>\n",
       "      <td>0.870968</td>\n",
       "      <td>0.263158</td>\n",
       "      <td>Apple</td>\n",
       "    </tr>\n",
       "    <tr>\n",
       "      <th>2</th>\n",
       "      <td>1</td>\n",
       "      <td>0</td>\n",
       "      <td>0</td>\n",
       "      <td>0.483871</td>\n",
       "      <td>1.000000</td>\n",
       "      <td>Pear</td>\n",
       "    </tr>\n",
       "    <tr>\n",
       "      <th>3</th>\n",
       "      <td>0</td>\n",
       "      <td>0</td>\n",
       "      <td>1</td>\n",
       "      <td>0.161290</td>\n",
       "      <td>0.135338</td>\n",
       "      <td>Lemon</td>\n",
       "    </tr>\n",
       "    <tr>\n",
       "      <th>4</th>\n",
       "      <td>0</td>\n",
       "      <td>0</td>\n",
       "      <td>1</td>\n",
       "      <td>0.000000</td>\n",
       "      <td>0.000000</td>\n",
       "      <td>Lemon</td>\n",
       "    </tr>\n",
       "    <tr>\n",
       "      <th>5</th>\n",
       "      <td>1</td>\n",
       "      <td>0</td>\n",
       "      <td>0</td>\n",
       "      <td>0.290323</td>\n",
       "      <td>0.345865</td>\n",
       "      <td>Apple</td>\n",
       "    </tr>\n",
       "    <tr>\n",
       "      <th>6</th>\n",
       "      <td>0</td>\n",
       "      <td>0</td>\n",
       "      <td>1</td>\n",
       "      <td>0.322581</td>\n",
       "      <td>0.150376</td>\n",
       "      <td>Lemon</td>\n",
       "    </tr>\n",
       "    <tr>\n",
       "      <th>7</th>\n",
       "      <td>0</td>\n",
       "      <td>0</td>\n",
       "      <td>1</td>\n",
       "      <td>1.000000</td>\n",
       "      <td>0.759398</td>\n",
       "      <td>Pear</td>\n",
       "    </tr>\n",
       "    <tr>\n",
       "      <th>8</th>\n",
       "      <td>1</td>\n",
       "      <td>0</td>\n",
       "      <td>0</td>\n",
       "      <td>0.129032</td>\n",
       "      <td>0.225564</td>\n",
       "      <td>Apple</td>\n",
       "    </tr>\n",
       "    <tr>\n",
       "      <th>9</th>\n",
       "      <td>0</td>\n",
       "      <td>0</td>\n",
       "      <td>1</td>\n",
       "      <td>0.354839</td>\n",
       "      <td>0.293233</td>\n",
       "      <td>Apple</td>\n",
       "    </tr>\n",
       "    <tr>\n",
       "      <th>10</th>\n",
       "      <td>0</td>\n",
       "      <td>1</td>\n",
       "      <td>0</td>\n",
       "      <td>0.580645</td>\n",
       "      <td>0.458647</td>\n",
       "      <td>Apple</td>\n",
       "    </tr>\n",
       "    <tr>\n",
       "      <th>11</th>\n",
       "      <td>1</td>\n",
       "      <td>0</td>\n",
       "      <td>0</td>\n",
       "      <td>0.096774</td>\n",
       "      <td>0.165414</td>\n",
       "      <td>Lemon</td>\n",
       "    </tr>\n",
       "    <tr>\n",
       "      <th>12</th>\n",
       "      <td>1</td>\n",
       "      <td>0</td>\n",
       "      <td>0</td>\n",
       "      <td>0.806452</td>\n",
       "      <td>0.842105</td>\n",
       "      <td>Pear</td>\n",
       "    </tr>\n",
       "    <tr>\n",
       "      <th>13</th>\n",
       "      <td>1</td>\n",
       "      <td>0</td>\n",
       "      <td>0</td>\n",
       "      <td>0.709677</td>\n",
       "      <td>0.699248</td>\n",
       "      <td>Pear</td>\n",
       "    </tr>\n",
       "    <tr>\n",
       "      <th>15</th>\n",
       "      <td>0</td>\n",
       "      <td>0</td>\n",
       "      <td>1</td>\n",
       "      <td>0.258065</td>\n",
       "      <td>0.097744</td>\n",
       "      <td>Lemon</td>\n",
       "    </tr>\n",
       "    <tr>\n",
       "      <th>16</th>\n",
       "      <td>1</td>\n",
       "      <td>0</td>\n",
       "      <td>0</td>\n",
       "      <td>0.774194</td>\n",
       "      <td>0.526316</td>\n",
       "      <td>Pear</td>\n",
       "    </tr>\n",
       "    <tr>\n",
       "      <th>17</th>\n",
       "      <td>0</td>\n",
       "      <td>0</td>\n",
       "      <td>1</td>\n",
       "      <td>0.064516</td>\n",
       "      <td>0.150376</td>\n",
       "      <td>Lemon</td>\n",
       "    </tr>\n",
       "    <tr>\n",
       "      <th>18</th>\n",
       "      <td>0</td>\n",
       "      <td>1</td>\n",
       "      <td>0</td>\n",
       "      <td>0.516129</td>\n",
       "      <td>0.458647</td>\n",
       "      <td>Apple</td>\n",
       "    </tr>\n",
       "    <tr>\n",
       "      <th>19</th>\n",
       "      <td>0</td>\n",
       "      <td>0</td>\n",
       "      <td>1</td>\n",
       "      <td>0.645161</td>\n",
       "      <td>0.714286</td>\n",
       "      <td>Pear</td>\n",
       "    </tr>\n",
       "    <tr>\n",
       "      <th>20</th>\n",
       "      <td>0</td>\n",
       "      <td>0</td>\n",
       "      <td>1</td>\n",
       "      <td>0.096774</td>\n",
       "      <td>0.172932</td>\n",
       "      <td>Lemon</td>\n",
       "    </tr>\n",
       "    <tr>\n",
       "      <th>21</th>\n",
       "      <td>0</td>\n",
       "      <td>0</td>\n",
       "      <td>1</td>\n",
       "      <td>0.000000</td>\n",
       "      <td>0.180451</td>\n",
       "      <td>Apple</td>\n",
       "    </tr>\n",
       "    <tr>\n",
       "      <th>22</th>\n",
       "      <td>1</td>\n",
       "      <td>0</td>\n",
       "      <td>0</td>\n",
       "      <td>0.193548</td>\n",
       "      <td>0.248120</td>\n",
       "      <td>Apple</td>\n",
       "    </tr>\n",
       "    <tr>\n",
       "      <th>23</th>\n",
       "      <td>0</td>\n",
       "      <td>1</td>\n",
       "      <td>0</td>\n",
       "      <td>0.548387</td>\n",
       "      <td>0.300752</td>\n",
       "      <td>Apple</td>\n",
       "    </tr>\n",
       "    <tr>\n",
       "      <th>24</th>\n",
       "      <td>1</td>\n",
       "      <td>0</td>\n",
       "      <td>0</td>\n",
       "      <td>0.677419</td>\n",
       "      <td>0.646617</td>\n",
       "      <td>Pear</td>\n",
       "    </tr>\n",
       "    <tr>\n",
       "      <th>25</th>\n",
       "      <td>0</td>\n",
       "      <td>0</td>\n",
       "      <td>1</td>\n",
       "      <td>0.451613</td>\n",
       "      <td>0.436090</td>\n",
       "      <td>Apple</td>\n",
       "    </tr>\n",
       "    <tr>\n",
       "      <th>26</th>\n",
       "      <td>0</td>\n",
       "      <td>0</td>\n",
       "      <td>1</td>\n",
       "      <td>0.354839</td>\n",
       "      <td>0.165414</td>\n",
       "      <td>Lemon</td>\n",
       "    </tr>\n",
       "    <tr>\n",
       "      <th>27</th>\n",
       "      <td>1</td>\n",
       "      <td>0</td>\n",
       "      <td>0</td>\n",
       "      <td>0.129032</td>\n",
       "      <td>0.187970</td>\n",
       "      <td>Lemon</td>\n",
       "    </tr>\n",
       "    <tr>\n",
       "      <th>28</th>\n",
       "      <td>0</td>\n",
       "      <td>0</td>\n",
       "      <td>1</td>\n",
       "      <td>0.000000</td>\n",
       "      <td>0.007519</td>\n",
       "      <td>Lemon</td>\n",
       "    </tr>\n",
       "    <tr>\n",
       "      <th>29</th>\n",
       "      <td>1</td>\n",
       "      <td>0</td>\n",
       "      <td>0</td>\n",
       "      <td>0.322581</td>\n",
       "      <td>0.338346</td>\n",
       "      <td>Apple</td>\n",
       "    </tr>\n",
       "    <tr>\n",
       "      <th>31</th>\n",
       "      <td>0</td>\n",
       "      <td>0</td>\n",
       "      <td>1</td>\n",
       "      <td>1.000000</td>\n",
       "      <td>0.766917</td>\n",
       "      <td>Pear</td>\n",
       "    </tr>\n",
       "  </tbody>\n",
       "</table>\n",
       "</div>"
      ],
      "text/plain": [
       "    Green  Red  Yellow  Radius (cm)  Weight (grams) Fruit (class)\n",
       "0       0    0       1     0.064516        0.157895         Lemon\n",
       "1       0    0       1     0.870968        0.263158         Apple\n",
       "2       1    0       0     0.483871        1.000000          Pear\n",
       "3       0    0       1     0.161290        0.135338         Lemon\n",
       "4       0    0       1     0.000000        0.000000         Lemon\n",
       "5       1    0       0     0.290323        0.345865         Apple\n",
       "6       0    0       1     0.322581        0.150376         Lemon\n",
       "7       0    0       1     1.000000        0.759398          Pear\n",
       "8       1    0       0     0.129032        0.225564         Apple\n",
       "9       0    0       1     0.354839        0.293233         Apple\n",
       "10      0    1       0     0.580645        0.458647         Apple\n",
       "11      1    0       0     0.096774        0.165414         Lemon\n",
       "12      1    0       0     0.806452        0.842105          Pear\n",
       "13      1    0       0     0.709677        0.699248          Pear\n",
       "15      0    0       1     0.258065        0.097744         Lemon\n",
       "16      1    0       0     0.774194        0.526316          Pear\n",
       "17      0    0       1     0.064516        0.150376         Lemon\n",
       "18      0    1       0     0.516129        0.458647         Apple\n",
       "19      0    0       1     0.645161        0.714286          Pear\n",
       "20      0    0       1     0.096774        0.172932         Lemon\n",
       "21      0    0       1     0.000000        0.180451         Apple\n",
       "22      1    0       0     0.193548        0.248120         Apple\n",
       "23      0    1       0     0.548387        0.300752         Apple\n",
       "24      1    0       0     0.677419        0.646617          Pear\n",
       "25      0    0       1     0.451613        0.436090         Apple\n",
       "26      0    0       1     0.354839        0.165414         Lemon\n",
       "27      1    0       0     0.129032        0.187970         Lemon\n",
       "28      0    0       1     0.000000        0.007519         Lemon\n",
       "29      1    0       0     0.322581        0.338346         Apple\n",
       "31      0    0       1     1.000000        0.766917          Pear"
      ]
     },
     "execution_count": 2,
     "metadata": {},
     "output_type": "execute_result"
    }
   ],
   "source": [
    "import csv\n",
    "import numpy as np\n",
    "import pandas as pd\n",
    "\n",
    "# Below is an example how data preprocessing can be achieved with pandas module\n",
    "train = pd.DataFrame()\n",
    "test = pd.DataFrame()\n",
    "\n",
    "train = pd.read_csv('trainData.csv',  dtype={'Color': str,'Radius (cm)':float,'Weight (grams)':float})\n",
    "\n",
    "#########################  DATA Preprocessing  #############################\n",
    "    \n",
    "# drop duplicated rows\n",
    "train = train.drop_duplicates()\n",
    "    \n",
    "# replace zeros entries with np.nan\n",
    "train = train.replace(0,np.nan)\n",
    "train = train.dropna() # drop all nan entiries \n",
    "    \n",
    "# transform the nominal feature (color) to dummy\n",
    "newCols = pd.get_dummies(train.iloc[:,0]) \n",
    "train = pd.concat([newCols, train], axis=1) # add them to the transfomed columns to the beggining  of the data frame\n",
    "train = train.drop(train.columns[3], axis = 1) # drop nominal column (color)    \n",
    "\n",
    "## normalization\n",
    "min_radius = min(train.iloc[:,3])\n",
    "max_radius = max(train.iloc[:,3])\n",
    "train['Radius (cm)'] = list(map(lambda x: (float(x)-min_radius)/(max_radius-min_radius), train.iloc[:,3]))\n",
    "\n",
    "## normalization\n",
    "min_weight = min(train.iloc[:,4])\n",
    "max_weight = max(train.iloc[:,4])\n",
    "train['Weight (grams)'] = list(map(lambda x: (float(x)-min_weight)/(max_weight-min_weight), train.iloc[:,4]))\n",
    "\n",
    "train"
   ]
  },
  {
   "cell_type": "markdown",
   "metadata": {},
   "source": [
    "### Test Data"
   ]
  },
  {
   "cell_type": "code",
   "execution_count": 3,
   "metadata": {},
   "outputs": [
    {
     "data": {
      "text/html": [
       "<div>\n",
       "<style scoped>\n",
       "    .dataframe tbody tr th:only-of-type {\n",
       "        vertical-align: middle;\n",
       "    }\n",
       "\n",
       "    .dataframe tbody tr th {\n",
       "        vertical-align: top;\n",
       "    }\n",
       "\n",
       "    .dataframe thead th {\n",
       "        text-align: right;\n",
       "    }\n",
       "</style>\n",
       "<table border=\"1\" class=\"dataframe\">\n",
       "  <thead>\n",
       "    <tr style=\"text-align: right;\">\n",
       "      <th></th>\n",
       "      <th>Green</th>\n",
       "      <th>Red</th>\n",
       "      <th>Yellow</th>\n",
       "      <th>Radius (cm)</th>\n",
       "      <th>Weight (grams)</th>\n",
       "      <th>Predicted (class)</th>\n",
       "      <th>Original (class)</th>\n",
       "    </tr>\n",
       "  </thead>\n",
       "  <tbody>\n",
       "    <tr>\n",
       "      <th>0</th>\n",
       "      <td>0</td>\n",
       "      <td>0</td>\n",
       "      <td>1</td>\n",
       "      <td>0.129032</td>\n",
       "      <td>0.180451</td>\n",
       "      <td>NaN</td>\n",
       "      <td>Lemon</td>\n",
       "    </tr>\n",
       "    <tr>\n",
       "      <th>1</th>\n",
       "      <td>1</td>\n",
       "      <td>0</td>\n",
       "      <td>0</td>\n",
       "      <td>0.677419</td>\n",
       "      <td>0.375940</td>\n",
       "      <td>NaN</td>\n",
       "      <td>Pear</td>\n",
       "    </tr>\n",
       "    <tr>\n",
       "      <th>2</th>\n",
       "      <td>1</td>\n",
       "      <td>0</td>\n",
       "      <td>0</td>\n",
       "      <td>0.354839</td>\n",
       "      <td>0.413534</td>\n",
       "      <td>NaN</td>\n",
       "      <td>Pear</td>\n",
       "    </tr>\n",
       "    <tr>\n",
       "      <th>3</th>\n",
       "      <td>0</td>\n",
       "      <td>1</td>\n",
       "      <td>0</td>\n",
       "      <td>0.258065</td>\n",
       "      <td>0.187970</td>\n",
       "      <td>NaN</td>\n",
       "      <td>Apple</td>\n",
       "    </tr>\n",
       "    <tr>\n",
       "      <th>4</th>\n",
       "      <td>0</td>\n",
       "      <td>0</td>\n",
       "      <td>1</td>\n",
       "      <td>0.258065</td>\n",
       "      <td>0.150376</td>\n",
       "      <td>NaN</td>\n",
       "      <td>Lemon</td>\n",
       "    </tr>\n",
       "  </tbody>\n",
       "</table>\n",
       "</div>"
      ],
      "text/plain": [
       "   Green  Red  Yellow  Radius (cm)  Weight (grams)  Predicted (class)  \\\n",
       "0      0    0       1     0.129032        0.180451                NaN   \n",
       "1      1    0       0     0.677419        0.375940                NaN   \n",
       "2      1    0       0     0.354839        0.413534                NaN   \n",
       "3      0    1       0     0.258065        0.187970                NaN   \n",
       "4      0    0       1     0.258065        0.150376                NaN   \n",
       "\n",
       "  Original (class)  \n",
       "0            Lemon  \n",
       "1             Pear  \n",
       "2             Pear  \n",
       "3            Apple  \n",
       "4            Lemon  "
      ]
     },
     "execution_count": 3,
     "metadata": {},
     "output_type": "execute_result"
    }
   ],
   "source": [
    "test = pd.DataFrame()\n",
    "test = pd.read_csv('testData.csv',  dtype={'Color': str,'Radius (cm)':float,'Weight (grams)':float})\n",
    "\n",
    "#########################  DATA Preprocessing  #############################\n",
    "    \n",
    "# drop duplicated rows\n",
    "test= test.drop_duplicates()\n",
    "\n",
    "# transform the nominal feature (color) to dummy\n",
    "newCols=pd.get_dummies(test.iloc[:,0]) \n",
    "test = pd.concat([newCols, test], axis=1) # add them to the transfomed columns to the beggining  of the data frame\n",
    "test= test.drop(test.columns[3], axis = 1) # drop nominal column (color)    \n",
    "\n",
    "## normalization like training data\n",
    "test['Radius (cm)'] = list(map(lambda x: (float(x)-min_radius)/(max_radius-min_radius), test.iloc[:,3]))\n",
    "\n",
    "## normalization like training data\n",
    "test['Weight (grams)'] = list(map(lambda x: (float(x)-min_weight)/(max_weight-min_weight), test.iloc[:,4]))\n",
    "\n",
    "test"
   ]
  },
  {
   "cell_type": "code",
   "execution_count": 4,
   "metadata": {},
   "outputs": [
    {
     "data": {
      "text/html": [
       "<div>\n",
       "<style scoped>\n",
       "    .dataframe tbody tr th:only-of-type {\n",
       "        vertical-align: middle;\n",
       "    }\n",
       "\n",
       "    .dataframe tbody tr th {\n",
       "        vertical-align: top;\n",
       "    }\n",
       "\n",
       "    .dataframe thead th {\n",
       "        text-align: right;\n",
       "    }\n",
       "</style>\n",
       "<table border=\"1\" class=\"dataframe\">\n",
       "  <thead>\n",
       "    <tr style=\"text-align: right;\">\n",
       "      <th></th>\n",
       "      <th>Radius (cm)</th>\n",
       "      <th>Weight (grams)</th>\n",
       "      <th>Green</th>\n",
       "      <th>Red</th>\n",
       "      <th>Yellow</th>\n",
       "    </tr>\n",
       "  </thead>\n",
       "  <tbody>\n",
       "    <tr>\n",
       "      <th>0</th>\n",
       "      <td>0.064516</td>\n",
       "      <td>0.157895</td>\n",
       "      <td>0</td>\n",
       "      <td>0</td>\n",
       "      <td>1</td>\n",
       "    </tr>\n",
       "    <tr>\n",
       "      <th>1</th>\n",
       "      <td>0.870968</td>\n",
       "      <td>0.263158</td>\n",
       "      <td>0</td>\n",
       "      <td>0</td>\n",
       "      <td>1</td>\n",
       "    </tr>\n",
       "    <tr>\n",
       "      <th>2</th>\n",
       "      <td>0.483871</td>\n",
       "      <td>1.000000</td>\n",
       "      <td>1</td>\n",
       "      <td>0</td>\n",
       "      <td>0</td>\n",
       "    </tr>\n",
       "    <tr>\n",
       "      <th>3</th>\n",
       "      <td>0.161290</td>\n",
       "      <td>0.135338</td>\n",
       "      <td>0</td>\n",
       "      <td>0</td>\n",
       "      <td>1</td>\n",
       "    </tr>\n",
       "    <tr>\n",
       "      <th>4</th>\n",
       "      <td>0.000000</td>\n",
       "      <td>0.000000</td>\n",
       "      <td>0</td>\n",
       "      <td>0</td>\n",
       "      <td>1</td>\n",
       "    </tr>\n",
       "    <tr>\n",
       "      <th>5</th>\n",
       "      <td>0.290323</td>\n",
       "      <td>0.345865</td>\n",
       "      <td>1</td>\n",
       "      <td>0</td>\n",
       "      <td>0</td>\n",
       "    </tr>\n",
       "    <tr>\n",
       "      <th>6</th>\n",
       "      <td>0.322581</td>\n",
       "      <td>0.150376</td>\n",
       "      <td>0</td>\n",
       "      <td>0</td>\n",
       "      <td>1</td>\n",
       "    </tr>\n",
       "    <tr>\n",
       "      <th>7</th>\n",
       "      <td>1.000000</td>\n",
       "      <td>0.759398</td>\n",
       "      <td>0</td>\n",
       "      <td>0</td>\n",
       "      <td>1</td>\n",
       "    </tr>\n",
       "    <tr>\n",
       "      <th>8</th>\n",
       "      <td>0.129032</td>\n",
       "      <td>0.225564</td>\n",
       "      <td>1</td>\n",
       "      <td>0</td>\n",
       "      <td>0</td>\n",
       "    </tr>\n",
       "    <tr>\n",
       "      <th>9</th>\n",
       "      <td>0.354839</td>\n",
       "      <td>0.293233</td>\n",
       "      <td>0</td>\n",
       "      <td>0</td>\n",
       "      <td>1</td>\n",
       "    </tr>\n",
       "    <tr>\n",
       "      <th>10</th>\n",
       "      <td>0.580645</td>\n",
       "      <td>0.458647</td>\n",
       "      <td>0</td>\n",
       "      <td>1</td>\n",
       "      <td>0</td>\n",
       "    </tr>\n",
       "    <tr>\n",
       "      <th>11</th>\n",
       "      <td>0.096774</td>\n",
       "      <td>0.165414</td>\n",
       "      <td>1</td>\n",
       "      <td>0</td>\n",
       "      <td>0</td>\n",
       "    </tr>\n",
       "    <tr>\n",
       "      <th>12</th>\n",
       "      <td>0.806452</td>\n",
       "      <td>0.842105</td>\n",
       "      <td>1</td>\n",
       "      <td>0</td>\n",
       "      <td>0</td>\n",
       "    </tr>\n",
       "    <tr>\n",
       "      <th>13</th>\n",
       "      <td>0.709677</td>\n",
       "      <td>0.699248</td>\n",
       "      <td>1</td>\n",
       "      <td>0</td>\n",
       "      <td>0</td>\n",
       "    </tr>\n",
       "    <tr>\n",
       "      <th>15</th>\n",
       "      <td>0.258065</td>\n",
       "      <td>0.097744</td>\n",
       "      <td>0</td>\n",
       "      <td>0</td>\n",
       "      <td>1</td>\n",
       "    </tr>\n",
       "    <tr>\n",
       "      <th>16</th>\n",
       "      <td>0.774194</td>\n",
       "      <td>0.526316</td>\n",
       "      <td>1</td>\n",
       "      <td>0</td>\n",
       "      <td>0</td>\n",
       "    </tr>\n",
       "    <tr>\n",
       "      <th>17</th>\n",
       "      <td>0.064516</td>\n",
       "      <td>0.150376</td>\n",
       "      <td>0</td>\n",
       "      <td>0</td>\n",
       "      <td>1</td>\n",
       "    </tr>\n",
       "    <tr>\n",
       "      <th>18</th>\n",
       "      <td>0.516129</td>\n",
       "      <td>0.458647</td>\n",
       "      <td>0</td>\n",
       "      <td>1</td>\n",
       "      <td>0</td>\n",
       "    </tr>\n",
       "    <tr>\n",
       "      <th>19</th>\n",
       "      <td>0.645161</td>\n",
       "      <td>0.714286</td>\n",
       "      <td>0</td>\n",
       "      <td>0</td>\n",
       "      <td>1</td>\n",
       "    </tr>\n",
       "    <tr>\n",
       "      <th>20</th>\n",
       "      <td>0.096774</td>\n",
       "      <td>0.172932</td>\n",
       "      <td>0</td>\n",
       "      <td>0</td>\n",
       "      <td>1</td>\n",
       "    </tr>\n",
       "    <tr>\n",
       "      <th>21</th>\n",
       "      <td>0.000000</td>\n",
       "      <td>0.180451</td>\n",
       "      <td>0</td>\n",
       "      <td>0</td>\n",
       "      <td>1</td>\n",
       "    </tr>\n",
       "    <tr>\n",
       "      <th>22</th>\n",
       "      <td>0.193548</td>\n",
       "      <td>0.248120</td>\n",
       "      <td>1</td>\n",
       "      <td>0</td>\n",
       "      <td>0</td>\n",
       "    </tr>\n",
       "    <tr>\n",
       "      <th>23</th>\n",
       "      <td>0.548387</td>\n",
       "      <td>0.300752</td>\n",
       "      <td>0</td>\n",
       "      <td>1</td>\n",
       "      <td>0</td>\n",
       "    </tr>\n",
       "    <tr>\n",
       "      <th>24</th>\n",
       "      <td>0.677419</td>\n",
       "      <td>0.646617</td>\n",
       "      <td>1</td>\n",
       "      <td>0</td>\n",
       "      <td>0</td>\n",
       "    </tr>\n",
       "    <tr>\n",
       "      <th>25</th>\n",
       "      <td>0.451613</td>\n",
       "      <td>0.436090</td>\n",
       "      <td>0</td>\n",
       "      <td>0</td>\n",
       "      <td>1</td>\n",
       "    </tr>\n",
       "    <tr>\n",
       "      <th>26</th>\n",
       "      <td>0.354839</td>\n",
       "      <td>0.165414</td>\n",
       "      <td>0</td>\n",
       "      <td>0</td>\n",
       "      <td>1</td>\n",
       "    </tr>\n",
       "    <tr>\n",
       "      <th>27</th>\n",
       "      <td>0.129032</td>\n",
       "      <td>0.187970</td>\n",
       "      <td>1</td>\n",
       "      <td>0</td>\n",
       "      <td>0</td>\n",
       "    </tr>\n",
       "    <tr>\n",
       "      <th>28</th>\n",
       "      <td>0.000000</td>\n",
       "      <td>0.007519</td>\n",
       "      <td>0</td>\n",
       "      <td>0</td>\n",
       "      <td>1</td>\n",
       "    </tr>\n",
       "    <tr>\n",
       "      <th>29</th>\n",
       "      <td>0.322581</td>\n",
       "      <td>0.338346</td>\n",
       "      <td>1</td>\n",
       "      <td>0</td>\n",
       "      <td>0</td>\n",
       "    </tr>\n",
       "    <tr>\n",
       "      <th>31</th>\n",
       "      <td>1.000000</td>\n",
       "      <td>0.766917</td>\n",
       "      <td>0</td>\n",
       "      <td>0</td>\n",
       "      <td>1</td>\n",
       "    </tr>\n",
       "  </tbody>\n",
       "</table>\n",
       "</div>"
      ],
      "text/plain": [
       "    Radius (cm)  Weight (grams)  Green  Red  Yellow\n",
       "0      0.064516        0.157895      0    0       1\n",
       "1      0.870968        0.263158      0    0       1\n",
       "2      0.483871        1.000000      1    0       0\n",
       "3      0.161290        0.135338      0    0       1\n",
       "4      0.000000        0.000000      0    0       1\n",
       "5      0.290323        0.345865      1    0       0\n",
       "6      0.322581        0.150376      0    0       1\n",
       "7      1.000000        0.759398      0    0       1\n",
       "8      0.129032        0.225564      1    0       0\n",
       "9      0.354839        0.293233      0    0       1\n",
       "10     0.580645        0.458647      0    1       0\n",
       "11     0.096774        0.165414      1    0       0\n",
       "12     0.806452        0.842105      1    0       0\n",
       "13     0.709677        0.699248      1    0       0\n",
       "15     0.258065        0.097744      0    0       1\n",
       "16     0.774194        0.526316      1    0       0\n",
       "17     0.064516        0.150376      0    0       1\n",
       "18     0.516129        0.458647      0    1       0\n",
       "19     0.645161        0.714286      0    0       1\n",
       "20     0.096774        0.172932      0    0       1\n",
       "21     0.000000        0.180451      0    0       1\n",
       "22     0.193548        0.248120      1    0       0\n",
       "23     0.548387        0.300752      0    1       0\n",
       "24     0.677419        0.646617      1    0       0\n",
       "25     0.451613        0.436090      0    0       1\n",
       "26     0.354839        0.165414      0    0       1\n",
       "27     0.129032        0.187970      1    0       0\n",
       "28     0.000000        0.007519      0    0       1\n",
       "29     0.322581        0.338346      1    0       0\n",
       "31     1.000000        0.766917      0    0       1"
      ]
     },
     "execution_count": 4,
     "metadata": {},
     "output_type": "execute_result"
    }
   ],
   "source": [
    "import pandas as pd\n",
    "\n",
    "df=pd.DataFrame(train)\n",
    "new_training=df[[\"Radius (cm)\",\"Weight (grams)\",\"Green\",\"Red\",\"Yellow\"]]\n",
    "new_df=new_training.copy()  #copying records of training dataset to new dataframe to sort the sequence.\n",
    "new_df"
   ]
  },
  {
   "cell_type": "code",
   "execution_count": 21,
   "metadata": {},
   "outputs": [
    {
     "data": {
      "text/plain": [
       "[[0.06451612903225798, 0.15789473684210525, 0.0, 0.0, 1.0],\n",
       " [0.8709677419354838, 0.2631578947368421, 0.0, 0.0, 1.0],\n",
       " [0.48387096774193544, 1.0, 1.0, 0.0, 0.0],\n",
       " [0.16129032258064516, 0.13533834586466165, 0.0, 0.0, 1.0],\n",
       " [0.0, 0.0, 0.0, 0.0, 1.0],\n",
       " [0.29032258064516125, 0.3458646616541353, 1.0, 0.0, 0.0],\n",
       " [0.3225806451612903, 0.15037593984962405, 0.0, 0.0, 1.0],\n",
       " [1.0, 0.7593984962406015, 0.0, 0.0, 1.0],\n",
       " [0.1290322580645161, 0.22556390977443608, 1.0, 0.0, 0.0],\n",
       " [0.3548387096774194, 0.2932330827067669, 0.0, 0.0, 1.0],\n",
       " [0.5806451612903225, 0.45864661654135336, 0.0, 1.0, 0.0],\n",
       " [0.09677419354838704, 0.16541353383458646, 1.0, 0.0, 0.0],\n",
       " [0.8064516129032256, 0.8421052631578947, 1.0, 0.0, 0.0],\n",
       " [0.7096774193548386, 0.6992481203007519, 1.0, 0.0, 0.0],\n",
       " [0.2580645161290322, 0.09774436090225563, 0.0, 0.0, 1.0],\n",
       " [0.7741935483870968, 0.5263157894736842, 1.0, 0.0, 0.0],\n",
       " [0.06451612903225798, 0.15037593984962405, 0.0, 0.0, 1.0],\n",
       " [0.5161290322580645, 0.45864661654135336, 0.0, 1.0, 0.0],\n",
       " [0.6451612903225805, 0.7142857142857143, 0.0, 0.0, 1.0],\n",
       " [0.09677419354838704, 0.17293233082706766, 0.0, 0.0, 1.0],\n",
       " [0.0, 0.18045112781954886, 0.0, 0.0, 1.0],\n",
       " [0.19354838709677422, 0.24812030075187969, 1.0, 0.0, 0.0],\n",
       " [0.5483870967741934, 0.3007518796992481, 0.0, 1.0, 0.0],\n",
       " [0.6774193548387097, 0.6466165413533834, 1.0, 0.0, 0.0],\n",
       " [0.4516129032258064, 0.43609022556390975, 0.0, 0.0, 1.0],\n",
       " [0.3548387096774194, 0.16541353383458646, 0.0, 0.0, 1.0],\n",
       " [0.1290322580645161, 0.18796992481203006, 1.0, 0.0, 0.0],\n",
       " [0.0, 0.007518796992481203, 0.0, 0.0, 1.0],\n",
       " [0.3225806451612903, 0.3383458646616541, 1.0, 0.0, 0.0],\n",
       " [1.0, 0.7669172932330827, 0.0, 0.0, 1.0]]"
      ]
     },
     "metadata": {},
     "output_type": "display_data"
    }
   ],
   "source": [
    "in_list=new_df.values.tolist()  #convert dataframe to list form\n",
    "display(in_list)"
   ]
  },
  {
   "cell_type": "code",
   "execution_count": 25,
   "metadata": {},
   "outputs": [
    {
     "data": {
      "text/plain": [
       "'Below are the euclidian distances of first record with rest : '"
      ]
     },
     "metadata": {},
     "output_type": "display_data"
    },
    {
     "data": {
      "text/plain": [
       "0.0"
      ]
     },
     "metadata": {},
     "output_type": "display_data"
    },
    {
     "data": {
      "text/plain": [
       "0.8132924052050323"
      ]
     },
     "metadata": {},
     "output_type": "display_data"
    },
    {
     "data": {
      "text/plain": [
       "0.9407442558886271"
      ]
     },
     "metadata": {},
     "output_type": "display_data"
    },
    {
     "data": {
      "text/plain": [
       "0.09936818057541358"
      ]
     },
     "metadata": {},
     "output_type": "display_data"
    },
    {
     "data": {
      "text/plain": [
       "0.17056693357079686"
      ]
     },
     "metadata": {},
     "output_type": "display_data"
    },
    {
     "data": {
      "text/plain": [
       "0.2938047756995292"
      ]
     },
     "metadata": {},
     "output_type": "display_data"
    },
    {
     "data": {
      "text/plain": [
       "0.2581740242416455"
      ]
     },
     "metadata": {},
     "output_type": "display_data"
    },
    {
     "data": {
      "text/plain": [
       "1.1121766250966234"
      ]
     },
     "metadata": {},
     "output_type": "display_data"
    },
    {
     "data": {
      "text/plain": [
       "0.09349571043985212"
      ]
     },
     "metadata": {},
     "output_type": "display_data"
    },
    {
     "data": {
      "text/plain": [
       "0.3203180742540904"
      ]
     },
     "metadata": {},
     "output_type": "display_data"
    },
    {
     "data": {
      "text/plain": [
       "0.5973615915693586"
      ]
     },
     "metadata": {},
     "output_type": "display_data"
    },
    {
     "data": {
      "text/plain": [
       "0.033122726858471195"
      ]
     },
     "metadata": {},
     "output_type": "display_data"
    },
    {
     "data": {
      "text/plain": [
       "1.0092632493795541"
      ]
     },
     "metadata": {},
     "output_type": "display_data"
    },
    {
     "data": {
      "text/plain": [
       "0.8421974687167029"
      ]
     },
     "metadata": {},
     "output_type": "display_data"
    },
    {
     "data": {
      "text/plain": [
       "0.2026796631965526"
      ]
     },
     "metadata": {},
     "output_type": "display_data"
    },
    {
     "data": {
      "text/plain": [
       "0.7996099746528331"
      ]
     },
     "metadata": {},
     "output_type": "display_data"
    },
    {
     "data": {
      "text/plain": [
       "0.007518796992481203"
      ]
     },
     "metadata": {},
     "output_type": "display_data"
    },
    {
     "data": {
      "text/plain": [
       "0.5425918424586502"
      ]
     },
     "metadata": {},
     "output_type": "display_data"
    },
    {
     "data": {
      "text/plain": [
       "0.8041888603496814"
      ]
     },
     "metadata": {},
     "output_type": "display_data"
    },
    {
     "data": {
      "text/plain": [
       "0.0355908971393434"
      ]
     },
     "metadata": {},
     "output_type": "display_data"
    },
    {
     "data": {
      "text/plain": [
       "0.0683456046811663"
      ]
     },
     "metadata": {},
     "output_type": "display_data"
    },
    {
     "data": {
      "text/plain": [
       "0.15744832804467854"
      ]
     },
     "metadata": {},
     "output_type": "display_data"
    },
    {
     "data": {
      "text/plain": [
       "0.5045188566236382"
      ]
     },
     "metadata": {},
     "output_type": "display_data"
    },
    {
     "data": {
      "text/plain": [
       "0.7839000997631741"
      ]
     },
     "metadata": {},
     "output_type": "display_data"
    },
    {
     "data": {
      "text/plain": [
       "0.4766934471295097"
      ]
     },
     "metadata": {},
     "output_type": "display_data"
    },
    {
     "data": {
      "text/plain": [
       "0.2904199255228201"
      ]
     },
     "metadata": {},
     "output_type": "display_data"
    },
    {
     "data": {
      "text/plain": [
       "0.0711817942786868"
      ]
     },
     "metadata": {},
     "output_type": "display_data"
    },
    {
     "data": {
      "text/plain": [
       "0.16363145843927662"
      ]
     },
     "metadata": {},
     "output_type": "display_data"
    },
    {
     "data": {
      "text/plain": [
       "0.31489665608935696"
      ]
     },
     "metadata": {},
     "output_type": "display_data"
    },
    {
     "data": {
      "text/plain": [
       "1.116260967262491"
      ]
     },
     "metadata": {},
     "output_type": "display_data"
    }
   ],
   "source": [
    "# calculate the Euclidean distance between two vectors:\n",
    "\n",
    "def euc_dist(row1, row2):        #function for ED of first record in training dataset with other records.\n",
    "    s = 0.0                      #We must add each records from test dataset statically to 0th row in new_df.\n",
    "    for i in range(len(row1)-3):          #selecting columns except last 3              \n",
    "        s += (row1[i] - row2[i])**2  \n",
    "        s_r= s**0.5                       #sqrt(x)= x^0.5\n",
    "    return(s_r)\n",
    "\n",
    "\n",
    "rowx = in_list[0]\n",
    "display(\"Below are the euclidian distances of first record with rest : \")   #ED of the the first record with all the other samples \n",
    "for row in in_list:                                                         #in form of aa,ab,ac,ad,ae,af and so on.\n",
    "    distance = euc_dist(rowx, row) \n",
    "    display(distance)\n"
   ]
  },
  {
   "cell_type": "code",
   "execution_count": 23,
   "metadata": {},
   "outputs": [
    {
     "name": "stdout",
     "output_type": "stream",
     "text": [
      "[0.06451612903225798, 0.15789473684210525] \n",
      "\n",
      "[0.06451612903225798, 0.15037593984962405] \n",
      "\n",
      "[0.09677419354838704, 0.16541353383458646] \n",
      "\n",
      "Above is the set of closest 3 data members.\n"
     ]
    },
    {
     "data": {
      "text/plain": [
       "[0.06451612903225798, 0.15789473684210525]"
      ]
     },
     "metadata": {},
     "output_type": "display_data"
    },
    {
     "data": {
      "text/plain": [
       "'Above is the closest 1 data member.'"
      ]
     },
     "metadata": {},
     "output_type": "display_data"
    }
   ],
   "source": [
    "def call_neighbors(training, testing, in_vicinity):\n",
    "    howfar = list()\n",
    "    for train_row in training:\n",
    "        dist = euc_dist(testing, train_row)\n",
    "        howfar.append((train_row, dist))\n",
    "    howfar.sort(key=lambda tup: tup[1])\n",
    "    neighbors = list()\n",
    "    for i in range(in_vicinity):\n",
    "        neighbors.append(howfar[i][0])\n",
    "    return neighbors\n",
    "\n",
    "# for k=3\n",
    "neighbors=call_neighbors(in_list,in_list[0],3)\n",
    "for members in neighbors:\n",
    "    print(members[0:2],'\\n')\n",
    "print(\"Above is the set of closest 3 data members.\")\n",
    "\n",
    "# for k=1\n",
    "neighbors=call_neighbors(in_list,in_list[0],1)\n",
    "for members in neighbors:\n",
    "    display(members[0:2])\n",
    "display(\"Above is the closest 1 data member.\")"
   ]
  },
  {
   "cell_type": "code",
   "execution_count": null,
   "metadata": {},
   "outputs": [],
   "source": [
    "#process will continue by statically adding incoming datapoints to 0th row in dataframe new_df.\n",
    "\n",
    "#further, we can also design a function to predict the classes of the incoming datapoints."
   ]
  }
 ],
 "metadata": {
  "kernelspec": {
   "display_name": "Python 3",
   "language": "python",
   "name": "python3"
  },
  "language_info": {
   "codemirror_mode": {
    "name": "ipython",
    "version": 3
   },
   "file_extension": ".py",
   "mimetype": "text/x-python",
   "name": "python",
   "nbconvert_exporter": "python",
   "pygments_lexer": "ipython3",
   "version": "3.8.3"
  }
 },
 "nbformat": 4,
 "nbformat_minor": 2
}
